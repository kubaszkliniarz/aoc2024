{
 "cells": [
  {
   "cell_type": "code",
   "execution_count": 101,
   "id": "10681bde-925c-4ad7-9caa-a2ee17daeda1",
   "metadata": {
    "scrolled": true
   },
   "outputs": [
    {
     "name": "stderr",
     "output_type": "stream",
     "text": [
      "<>:5: SyntaxWarning: invalid escape sequence '\\s'\n",
      "<>:5: SyntaxWarning: invalid escape sequence '\\s'\n",
      "/var/folders/hm/45j7yjzj389_cjf9p674m7000000gn/T/ipykernel_3474/3717970991.py:5: SyntaxWarning: invalid escape sequence '\\s'\n",
      "  df = pd.read_csv(filepath, sep=\"\\s+\", header=None, names=[\"Left\", \"Right\"])\n"
     ]
    },
    {
     "data": {
      "text/html": [
       "<div>\n",
       "<style scoped>\n",
       "    .dataframe tbody tr th:only-of-type {\n",
       "        vertical-align: middle;\n",
       "    }\n",
       "\n",
       "    .dataframe tbody tr th {\n",
       "        vertical-align: top;\n",
       "    }\n",
       "\n",
       "    .dataframe thead th {\n",
       "        text-align: right;\n",
       "    }\n",
       "</style>\n",
       "<table border=\"1\" class=\"dataframe\">\n",
       "  <thead>\n",
       "    <tr style=\"text-align: right;\">\n",
       "      <th></th>\n",
       "      <th>Left</th>\n",
       "      <th>Right</th>\n",
       "      <th>diff</th>\n",
       "    </tr>\n",
       "  </thead>\n",
       "  <tbody>\n",
       "    <tr>\n",
       "      <th>0</th>\n",
       "      <td>10055</td>\n",
       "      <td>10568</td>\n",
       "      <td>513</td>\n",
       "    </tr>\n",
       "    <tr>\n",
       "      <th>1</th>\n",
       "      <td>10069</td>\n",
       "      <td>10743</td>\n",
       "      <td>674</td>\n",
       "    </tr>\n",
       "    <tr>\n",
       "      <th>2</th>\n",
       "      <td>10158</td>\n",
       "      <td>11109</td>\n",
       "      <td>951</td>\n",
       "    </tr>\n",
       "    <tr>\n",
       "      <th>3</th>\n",
       "      <td>10237</td>\n",
       "      <td>11134</td>\n",
       "      <td>897</td>\n",
       "    </tr>\n",
       "    <tr>\n",
       "      <th>4</th>\n",
       "      <td>10354</td>\n",
       "      <td>11428</td>\n",
       "      <td>1074</td>\n",
       "    </tr>\n",
       "    <tr>\n",
       "      <th>5</th>\n",
       "      <td>10397</td>\n",
       "      <td>11554</td>\n",
       "      <td>1157</td>\n",
       "    </tr>\n",
       "    <tr>\n",
       "      <th>6</th>\n",
       "      <td>10601</td>\n",
       "      <td>11598</td>\n",
       "      <td>997</td>\n",
       "    </tr>\n",
       "    <tr>\n",
       "      <th>7</th>\n",
       "      <td>10666</td>\n",
       "      <td>11635</td>\n",
       "      <td>969</td>\n",
       "    </tr>\n",
       "    <tr>\n",
       "      <th>8</th>\n",
       "      <td>10691</td>\n",
       "      <td>11690</td>\n",
       "      <td>999</td>\n",
       "    </tr>\n",
       "    <tr>\n",
       "      <th>9</th>\n",
       "      <td>10869</td>\n",
       "      <td>11694</td>\n",
       "      <td>825</td>\n",
       "    </tr>\n",
       "  </tbody>\n",
       "</table>\n",
       "</div>"
      ],
      "text/plain": [
       "    Left  Right  diff\n",
       "0  10055  10568   513\n",
       "1  10069  10743   674\n",
       "2  10158  11109   951\n",
       "3  10237  11134   897\n",
       "4  10354  11428  1074\n",
       "5  10397  11554  1157\n",
       "6  10601  11598   997\n",
       "7  10666  11635   969\n",
       "8  10691  11690   999\n",
       "9  10869  11694   825"
      ]
     },
     "execution_count": 101,
     "metadata": {},
     "output_type": "execute_result"
    }
   ],
   "source": [
    "import pandas as pd\n",
    "\n",
    "filepath = 'input.txt'\n",
    "\n",
    "df = pd.read_csv(filepath, sep=\"\\s+\", header=None, names=[\"Left\", \"Right\"])\n",
    "\n",
    "left_series = df['Left']\n",
    "right_series = df['Right']\n",
    "\n",
    "left_series = left_series.sort_values().reset_index(drop=True)\n",
    "right_series = right_series.sort_values().reset_index(drop=True)\n",
    "\n",
    "df = pd.DataFrame({\"Left\": left_series, \"Right\": right_series})\n",
    "\n",
    "df['diff'] = abs(df['Left'] - df['Right'])\n",
    "\n",
    "df.head(10)"
   ]
  },
  {
   "cell_type": "code",
   "execution_count": 104,
   "id": "92f3c940-47d7-447a-a10e-eb7ddc751bd7",
   "metadata": {},
   "outputs": [
    {
     "data": {
      "text/plain": [
       "np.int64(3508942)"
      ]
     },
     "execution_count": 104,
     "metadata": {},
     "output_type": "execute_result"
    }
   ],
   "source": [
    "print(df['diff'].sum())"
   ]
  },
  {
   "cell_type": "code",
   "execution_count": 102,
   "id": "051452be-4c7a-4d7b-90d0-08f230f4ffd3",
   "metadata": {
    "scrolled": true
   },
   "outputs": [],
   "source": [
    "df['left_in_right'] = df['Left'].apply(lambda x: (df['Right'] == x).sum() * x)"
   ]
  },
  {
   "cell_type": "code",
   "execution_count": 103,
   "id": "32ff7524-9273-4b74-9f41-f09c38ee9637",
   "metadata": {},
   "outputs": [
    {
     "data": {
      "text/plain": [
       "np.int64(26593248)"
      ]
     },
     "execution_count": 103,
     "metadata": {},
     "output_type": "execute_result"
    }
   ],
   "source": [
    "print(df['left_in_right'].sum())"
   ]
  }
 ],
 "metadata": {
  "kernelspec": {
   "display_name": "Python 3 (ipykernel)",
   "language": "python",
   "name": "python3"
  },
  "language_info": {
   "codemirror_mode": {
    "name": "ipython",
    "version": 3
   },
   "file_extension": ".py",
   "mimetype": "text/x-python",
   "name": "python",
   "nbconvert_exporter": "python",
   "pygments_lexer": "ipython3",
   "version": "3.12.5"
  }
 },
 "nbformat": 4,
 "nbformat_minor": 5
}
